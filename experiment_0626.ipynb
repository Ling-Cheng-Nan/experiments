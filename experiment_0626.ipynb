{
 "cells": [
  {
   "cell_type": "markdown",
   "metadata": {},
   "source": [
    "## step1. import all required modules and packages"
   ]
  },
  {
   "cell_type": "code",
   "execution_count": 2,
   "metadata": {},
   "outputs": [],
   "source": [
    "from sklearn.impute import KNNImputer\n",
    "import numpy as np\n",
    "import pandas as pd\n",
    "import csv\n",
    "import random\n",
    "import matplotlib.pyplot as plt\n",
    "from scipy.spatial import distance\n",
    "from sklearn.metrics.pairwise import nan_euclidean_distances\n",
    "# dist(x,y) = sqrt(weight * sq. distance from present coordinates) where, weight = Total # of coordinates / # of present coordinates\n",
    "# ref : https://scikit-learn.org/stable/modules/generated/sklearn.metrics.pairwise.nan_euclidean_distances.html\n",
    "\n",
    "##configure precision for floating numbers\n",
    "np.set_printoptions(precision=3)"
   ]
  },
  {
   "cell_type": "markdown",
   "metadata": {},
   "source": [
    "### define all functions section"
   ]
  },
  {
   "cell_type": "code",
   "execution_count": 3,
   "metadata": {},
   "outputs": [],
   "source": [
    "def dominate(v1, v2):\n",
    "    \n",
    "    dom = False\n",
    "    for d in range(len(v1)):        \n",
    "        if(d == 1):\n",
    "            if(v1[d] <= v2[d]):\n",
    "                dom = True\n",
    "            else:\n",
    "                dom = False\n",
    "                break\n",
    "        elif(d == 0 or d == 2 or d == 3):\n",
    "            if(v1[d] >= v2[d]):\n",
    "                dom = True\n",
    "            else:\n",
    "                dom = False\n",
    "                break\n",
    "    \n",
    "    return dom\n",
    "    \n",
    "\n",
    "def findskyline(array):\n",
    "    rows, cols = array.shape\n",
    "#     print(\"row of array = \", rows)\n",
    "#     print(\"col of array = \", cols)\n",
    "    \n",
    "    skylineList = [0]\n",
    "    candidate = []\n",
    "    for row in range(rows):\n",
    "#         print(\"iteration : \", row)\n",
    "        new = array[row]\n",
    "        length = len(skylineList)\n",
    "        \n",
    "        for index in range(length):\n",
    "            temp = skylineList.pop(0)\n",
    "#             print(\"pop out element : \"+str(temp))\n",
    "            pop = array[temp]\n",
    "            \n",
    "            if(not(dominate(new, pop)) and not(dominate(pop, new))):\n",
    "#                 print(str(new)+ \" and \"+ str(pop) + \" don't dominate each other.\")\n",
    "                if(index == (length-1) ):\n",
    "#                     print(\"last index:\" + str(index))\n",
    "#                     print(\"insert \" + str(row) + \" into candidate.\" )    \n",
    "                    if(row not in candidate):\n",
    "                        candidate.append(row)\n",
    "                \n",
    "#                 print(\"insert \" + str(temp) + \" into candidate.\" )    \n",
    "                if(temp not in candidate):\n",
    "                    candidate.append(temp)\n",
    "            \n",
    "            elif(dominate(new, pop)):\n",
    "#                 print(str(new) + \" dominate \" + str(pop))\n",
    "#                 print(\"insert \" + str(row) + \" into candidate.\" )\n",
    "                if(row not in candidate):\n",
    "                    candidate.append(row)\n",
    "            \n",
    "            elif(dominate(pop, new)):\n",
    "#                 print(str(pop) + \" dominate \" + str(new))\n",
    "#                 print(\"insert \" + str(temp) + \" into candidate.\" )\n",
    "                if(temp not in candidate):\n",
    "                    candidate.append(temp)\n",
    "            \n",
    "#             print(\"candidate : \"+str(candidate))\n",
    "        \n",
    "        skylineList = candidate[:]\n",
    "        candidate.clear()\n",
    "            \n",
    "#         print(\"current skylineList:\"+str(skylineList))\n",
    "\n",
    "    return skylineList\n",
    "\n",
    "def eval_missing_weight(dataset):\n",
    "    \n",
    "    data = dataset.copy()\n",
    "    rows, cols = dataset.shape\n",
    "    \n",
    "    #initialize a weight list with length same with number of columns of input dataset\n",
    "    missing_weight_by_each_col = [None]*cols \n",
    "    miss_count = [None]*cols\n",
    "    miss_counter_per_col = 0\n",
    "    \n",
    "    for col in range(cols):\n",
    "        for row in range(rows):\n",
    "            if np.isnan(data[row][col]):\n",
    "                miss_counter_per_col += 1\n",
    "            else:\n",
    "                continue\n",
    "        \n",
    "        miss_count[col] = miss_counter_per_col #record missing count for each column\n",
    "        missing_weight_by_each_col[col] = miss_counter_per_col/rows #record missing ratio for each column\n",
    "        miss_counter_per_col = 0 # reset the missing-counter into next iteration\n",
    "    \n",
    "    print(miss_count)\n",
    "    print(missing_weight_by_each_col)\n",
    "    return miss_count, missing_weight_by_each_col"
   ]
  },
  {
   "cell_type": "markdown",
   "metadata": {},
   "source": [
    "## step2. prepare for input data with some missing values"
   ]
  },
  {
   "cell_type": "code",
   "execution_count": 4,
   "metadata": {},
   "outputs": [
    {
     "name": "stdout",
     "output_type": "stream",
     "text": [
      "[2, 1, 3, 4, 5]\n",
      "[0.3333333333333333, 0.16666666666666666, 0.5, 0.6666666666666666, 0.8333333333333334]\n",
      "[1, 2, 3, 4, 5, 0]\n"
     ]
    }
   ],
   "source": [
    "'''\n",
    "    Incomplete data set\n",
    "'''\n",
    "data  = np.array([\n",
    "    [np.nan,      5,      3, np.nan,      6],\n",
    "    [2     , np.nan,      6, np.nan, np.nan],\n",
    "    [8     ,      9, np.nan, np.nan, np.nan],\n",
    "    [np.nan,      8,      6,      7, np.nan],\n",
    "    [5     ,      6, np.nan, np.nan, np.nan],\n",
    "    [9     ,      5, np.nan,      7, np.nan],\n",
    "    ])\n",
    "\n",
    "miss_count, miss_weight = eval_missing_weight (data)\n",
    "data_row, data_col = data.shape\n",
    "\n",
    "original_skyline = findskyline(data) \n",
    "print(original_skyline)"
   ]
  },
  {
   "cell_type": "markdown",
   "metadata": {},
   "source": [
    "## step3. evaluate the distance_matrix and weight_matrix"
   ]
  },
  {
   "cell_type": "code",
   "execution_count": 8,
   "metadata": {},
   "outputs": [
    {
     "name": "stdout",
     "output_type": "stream",
     "text": [
      "[[ 0.     6.708  8.944  6.708  2.236  0.   ]\n",
      " [ 6.708  0.    13.416  0.     6.708 15.652]\n",
      " [ 8.944 13.416  0.     2.236  6.708  6.519]\n",
      " [ 6.708  0.     2.236  0.     4.472  4.743]\n",
      " [ 2.236  6.708  6.708  4.472  0.     6.519]\n",
      " [ 0.    15.652  6.519  4.743  6.519  0.   ]]\n"
     ]
    },
    {
     "data": {
      "text/plain": [
       "[[0,\n",
       "  0.14907119849998599,\n",
       "  0.11180339887498948,\n",
       "  0.14907119849998599,\n",
       "  0.4472135954999579,\n",
       "  0],\n",
       " [0.14907119849998599,\n",
       "  0,\n",
       "  0.07453559924999299,\n",
       "  0,\n",
       "  0.14907119849998599,\n",
       "  0.06388765649999399],\n",
       " [0.11180339887498948,\n",
       "  0.07453559924999299,\n",
       "  0,\n",
       "  0.4472135954999579,\n",
       "  0.14907119849998599,\n",
       "  0.15339299776947407],\n",
       " [0.14907119849998599,\n",
       "  0,\n",
       "  0.4472135954999579,\n",
       "  0,\n",
       "  0.22360679774997896,\n",
       "  0.21081851067789195],\n",
       " [0.4472135954999579,\n",
       "  0.14907119849998599,\n",
       "  0.14907119849998599,\n",
       "  0.22360679774997896,\n",
       "  0,\n",
       "  0.15339299776947407],\n",
       " [0,\n",
       "  0.06388765649999399,\n",
       "  0.15339299776947407,\n",
       "  0.21081851067789195,\n",
       "  0.15339299776947407,\n",
       "  0]]"
      ]
     },
     "execution_count": 8,
     "metadata": {},
     "output_type": "execute_result"
    }
   ],
   "source": [
    "'''\n",
    "    distance_matrix\n",
    "'''\n",
    "distance_matrix = nan_euclidean_distances(data,data)\n",
    "dis_row, dis_col = distance_matrix.shape \n",
    "''' there are two cases of distance_matrix = 0\n",
    "    1. two samples have same value but non-NaN with its all attributes\n",
    "    2. two samples have no any corresponding attributes both are non-NaN\n",
    "'''\n",
    "print(distance_matrix)\n",
    "\n",
    "'''\n",
    "    weight_matrix\n",
    "'''\n",
    "# initialize weight_matrix of same size with distance_matrix\n",
    "weight_matrix = [ [ None for y in range( dis_col ) ] for x in range( dis_row ) ]\n",
    "\n",
    "# print(weight_matrix)\n",
    "\n",
    "# assign values according to value in distance_matrix\n",
    "for row in range(dis_row):\n",
    "    for col in range(dis_col):\n",
    "        if (row == col or distance_matrix[row][col] == 0): \n",
    "            # assign zero otherwise (index i = j)\n",
    "            '''\n",
    "                there are two cases causing weight_matrix = 0\n",
    "                1. weight_matrix row index = column index\n",
    "                2. distance_matrix value is zero, which means neigther corresponding attributes of two samples are non-NaN\n",
    "            '''\n",
    "            weight_matrix[row][col] = 0\n",
    "        elif (row != col and distance_matrix[row][col] != 0) :\n",
    "            # assign inverse value of nan_euclidean_distances w.r.t distance_matrix\n",
    "            # python will alert divide-by-zero warning here\n",
    "            weight_matrix[row][col] = 1. / distance_matrix[row][col]\n",
    "\n",
    "# print(weight_matrix)\n",
    "weight_matrix"
   ]
  },
  {
   "cell_type": "code",
   "execution_count": 45,
   "metadata": {
    "scrolled": true
   },
   "outputs": [
    {
     "name": "stdout",
     "output_type": "stream",
     "text": [
      "hello world\n"
     ]
    }
   ],
   "source": []
  }
 ],
 "metadata": {
  "kernelspec": {
   "display_name": "Python 3",
   "language": "python",
   "name": "python3"
  },
  "language_info": {
   "codemirror_mode": {
    "name": "ipython",
    "version": 3
   },
   "file_extension": ".py",
   "mimetype": "text/x-python",
   "name": "python",
   "nbconvert_exporter": "python",
   "pygments_lexer": "ipython3",
   "version": "3.7.6"
  }
 },
 "nbformat": 4,
 "nbformat_minor": 4
}
