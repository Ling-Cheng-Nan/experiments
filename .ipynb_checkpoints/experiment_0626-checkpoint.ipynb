{
 "cells": [
  {
   "cell_type": "markdown",
   "metadata": {},
   "source": [
    "## step1. import all required modules and packages"
   ]
  },
  {
   "cell_type": "code",
   "execution_count": 12,
   "metadata": {},
   "outputs": [],
   "source": [
    "from sklearn.impute import KNNImputer\n",
    "import numpy as np\n",
    "import pandas as pd\n",
    "import csv\n",
    "import random\n",
    "import matplotlib.pyplot as plt\n",
    "from scipy.spatial import distance\n",
    "\n",
    "\n",
    "##configure precision for floating numbers\n",
    "np.set_printoptions(precision=3)"
   ]
  },
  {
   "cell_type": "markdown",
   "metadata": {},
   "source": [
    "### define all functions section"
   ]
  },
  {
   "cell_type": "code",
   "execution_count": 13,
   "metadata": {},
   "outputs": [],
   "source": [
    "def dominate(v1, v2):\n",
    "    \n",
    "    dom = False\n",
    "    for d in range(len(v1)):        \n",
    "        if(d == 1):\n",
    "            if(v1[d] <= v2[d]):\n",
    "                dom = True\n",
    "            else:\n",
    "                dom = False\n",
    "                break\n",
    "        elif(d == 0 or d == 2 or d == 3):\n",
    "            if(v1[d] >= v2[d]):\n",
    "                dom = True\n",
    "            else:\n",
    "                dom = False\n",
    "                break\n",
    "    \n",
    "    return dom\n",
    "    \n",
    "\n",
    "def findskyline(array):\n",
    "    rows, cols = array.shape\n",
    "#     print(\"row of array = \", rows)\n",
    "#     print(\"col of array = \", cols)\n",
    "    \n",
    "    skylineList = [0]\n",
    "    candidate = []\n",
    "    for row in range(rows):\n",
    "#         print(\"iteration : \", row)\n",
    "        new = array[row]\n",
    "        length = len(skylineList)\n",
    "        \n",
    "        for index in range(length):\n",
    "            temp = skylineList.pop(0)\n",
    "#             print(\"pop out element : \"+str(temp))\n",
    "            pop = array[temp]\n",
    "            \n",
    "            if(not(dominate(new, pop)) and not(dominate(pop, new))):\n",
    "#                 print(str(new)+ \" and \"+ str(pop) + \" don't dominate each other.\")\n",
    "                if(index == (length-1) ):\n",
    "#                     print(\"last index:\" + str(index))\n",
    "#                     print(\"insert \" + str(row) + \" into candidate.\" )    \n",
    "                    if(row not in candidate):\n",
    "                        candidate.append(row)\n",
    "                \n",
    "#                 print(\"insert \" + str(temp) + \" into candidate.\" )    \n",
    "                if(temp not in candidate):\n",
    "                    candidate.append(temp)\n",
    "            \n",
    "            elif(dominate(new, pop)):\n",
    "#                 print(str(new) + \" dominate \" + str(pop))\n",
    "#                 print(\"insert \" + str(row) + \" into candidate.\" )\n",
    "                if(row not in candidate):\n",
    "                    candidate.append(row)\n",
    "            \n",
    "            elif(dominate(pop, new)):\n",
    "#                 print(str(pop) + \" dominate \" + str(new))\n",
    "#                 print(\"insert \" + str(temp) + \" into candidate.\" )\n",
    "                if(temp not in candidate):\n",
    "                    candidate.append(temp)\n",
    "            \n",
    "#             print(\"candidate : \"+str(candidate))\n",
    "        \n",
    "        skylineList = candidate[:]\n",
    "        candidate.clear()\n",
    "            \n",
    "#         print(\"current skylineList:\"+str(skylineList))\n",
    "\n",
    "    return skylineList\n",
    "\n",
    "def eval_missing_weight(dataset):\n",
    "    \n",
    "    data = dataset.copy()\n",
    "    rows, cols = dataset.shape\n",
    "    \n",
    "    #initialize a weight list with length same with number of columns of input dataset\n",
    "    missing_weight_by_each_col = [None]*cols \n",
    "    miss_count = [None]*cols\n",
    "    miss_counter_per_col = 0\n",
    "    \n",
    "    for col in range(cols):\n",
    "        for row in range(rows):\n",
    "            if np.isnan(data[row][col]):\n",
    "                miss_counter_per_col += 1\n",
    "            else:\n",
    "                continue\n",
    "        \n",
    "        miss_count[col] = miss_counter_per_col #record missing count for each column\n",
    "        missing_weight_by_each_col[col] = miss_counter_per_col/rows #record missing ratio for each column\n",
    "        miss_counter_per_col = 0 # reset the missing-counter into next iteration\n",
    "    \n",
    "    print(miss_count)\n",
    "    print(missing_weight_by_each_col)\n",
    "    return miss_count, missing_weight_by_each_col"
   ]
  },
  {
   "cell_type": "markdown",
   "metadata": {},
   "source": [
    "## step2. prepare for input data with some missing values"
   ]
  },
  {
   "cell_type": "code",
   "execution_count": 15,
   "metadata": {},
   "outputs": [
    {
     "name": "stdout",
     "output_type": "stream",
     "text": [
      "5.291502622129181\n",
      "3.8340579025361627\n",
      "[2, 4, 5, 1]\n"
     ]
    }
   ],
   "source": [
    "\n",
    "'''\n",
    "    given test data set\n",
    "'''\n",
    "data  = np.array([\n",
    "    [1, 5, 3, 7, 6],\n",
    "    [2, 4, 6 , 8, 10],\n",
    "    [8, 9, 5, 3, 7],\n",
    "    [0, 5, 6, 7, 8],\n",
    "    [5, 4, 1, 8, 8],\n",
    "    [9, 5, 2, 7, 1],\n",
    "    ])\n",
    "\n",
    "missing_weight = [0.5,0.9,0.7,0.6,0.4]\n",
    "\n",
    "d1 = distance.euclidean(data[0], data[1], None)\n",
    "d2 = distance.euclidean(data[0], data[1], missing_weight)\n",
    "\n",
    "original_skyline = findskyline(data) \n",
    "print(original_skyline)"
   ]
  },
  {
   "cell_type": "code",
   "execution_count": 11,
   "metadata": {},
   "outputs": [
    {
     "name": "stdout",
     "output_type": "stream",
     "text": [
      "[0, 0, 0, 0, 0]\n",
      "[0.0, 0.0, 0.0, 0.0, 0.0]\n"
     ]
    },
    {
     "data": {
      "text/plain": [
       "([0, 0, 0, 0, 0], [0.0, 0.0, 0.0, 0.0, 0.0])"
      ]
     },
     "execution_count": 11,
     "metadata": {},
     "output_type": "execute_result"
    }
   ],
   "source": [
    "eval_missing_weight(data)"
   ]
  },
  {
   "cell_type": "code",
   "execution_count": null,
   "metadata": {},
   "outputs": [],
   "source": []
  }
 ],
 "metadata": {
  "kernelspec": {
   "display_name": "Python 3",
   "language": "python",
   "name": "python3"
  },
  "language_info": {
   "codemirror_mode": {
    "name": "ipython",
    "version": 3
   },
   "file_extension": ".py",
   "mimetype": "text/x-python",
   "name": "python",
   "nbconvert_exporter": "python",
   "pygments_lexer": "ipython3",
   "version": "3.7.6"
  }
 },
 "nbformat": 4,
 "nbformat_minor": 4
}
