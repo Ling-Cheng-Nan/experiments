{
 "cells": [
  {
   "cell_type": "markdown",
   "metadata": {},
   "source": [
    "# Load Data\n",
    "description : \n",
    "    1. data set preprocessing \n",
    "    2. drop non-realated columns\n",
    "    3. "
   ]
  },
  {
   "cell_type": "code",
   "execution_count": 18,
   "metadata": {},
   "outputs": [
    {
     "name": "stdout",
     "output_type": "stream",
     "text": [
      "     X2 house age  X3 distance to the nearest MRT station  \\\n",
      "0            32.0                                84.87882   \n",
      "1            19.5                               306.59470   \n",
      "2            13.3                               561.98450   \n",
      "3            13.3                               561.98450   \n",
      "4             5.0                               390.56840   \n",
      "..            ...                                     ...   \n",
      "409          13.7                              4082.01500   \n",
      "410           5.6                                90.45606   \n",
      "411          18.8                               390.96960   \n",
      "412           8.1                               104.81010   \n",
      "413           6.5                                90.45606   \n",
      "\n",
      "     X4 number of convenience stores  Y house price of unit area  \n",
      "0                                 10                        37.9  \n",
      "1                                  9                        42.2  \n",
      "2                                  5                        47.3  \n",
      "3                                  5                        54.8  \n",
      "4                                  5                        43.1  \n",
      "..                               ...                         ...  \n",
      "409                                0                        15.4  \n",
      "410                                9                        50.0  \n",
      "411                                7                        40.6  \n",
      "412                                5                        52.5  \n",
      "413                                9                        63.9  \n",
      "\n",
      "[414 rows x 4 columns]\n"
     ]
    }
   ],
   "source": [
    "from sklearn.impute import KNNImputer\n",
    "import numpy as np\n",
    "import pandas as pd\n",
    "import csv\n",
    "import random\n",
    "import matplotlib.pyplot as plt\n",
    "from scipy.spatial import distance\n",
    "np.set_printoptions(precision=3)\n",
    "\n",
    "\n",
    "#open csv file \n",
    "df = pd.read_csv(\"real_estate_valuation_dataset.csv\")\n",
    "\n",
    "df = df.drop(['No','X1 transaction date','X5 latitude','X6 longitude'], axis=1)\n",
    "\n",
    "    \n",
    "# dict = {'First':  [70, 100, 90, np.nan, 95, 40, 53, 88, 15, 20], \n",
    "#         'Second': [20, 30, 45, 56, np.nan, 10, np.nan, 32, 9, 7], \n",
    "#         'Third':  [np.nan, np.nan, 40, 80, 98, 70, 21, 43, 12, 33],\n",
    "#         'Fourth': [64, 20, 54, 90, 70, 81, 22, 10, 70, 4],\n",
    "#         'Fifth':  [np.nan, np.nan, 74, np.nan, 10, 51, 17, 23, 87, 19],\n",
    "#         'Sixth':  [82, np.nan,5,20,np.nan, np.nan,np.nan, 50, 4, 11]\n",
    "#        }\n",
    "\n",
    "# dict = { 'First':   [4, 8, 3, 6, 0, 5], \n",
    "#           'Second': [7, 2, 4, 8, 3, 7], \n",
    "#           'Third':  [3, 5, 4, 5, 7, 5]\n",
    "#        }\n",
    "\n",
    "print(df)\n",
    "\n",
    "#take mean of k-nearest neigbors, \n",
    "#if k > number of all rows then k = # of rows\n",
    "imputer = KNNImputer(n_neighbors = 4)\n",
    "df_filled = imputer.fit_transform(df)\n",
    "# print(df_filled)"
   ]
  },
  {
   "cell_type": "code",
   "execution_count": 19,
   "metadata": {},
   "outputs": [],
   "source": [
    "def dominate(v1, v2):\n",
    "    \n",
    "    dom = False\n",
    "    for d in range(len(v1)):        \n",
    "        if(d == 1):\n",
    "            if(v1[d] <= v2[d]):\n",
    "                dom = True\n",
    "            else:\n",
    "                dom = False\n",
    "                break\n",
    "        elif(d == 0 or d == 2 or d == 3):\n",
    "            if(v1[d] >= v2[d]):\n",
    "                dom = True\n",
    "            else:\n",
    "                dom = False\n",
    "                break\n",
    "    \n",
    "    return dom\n",
    "    \n",
    "\n",
    "def findskyline(array):\n",
    "    rows, cols = array.shape\n",
    "#     print(\"row of array = \", rows)\n",
    "#     print(\"col of array = \", cols)\n",
    "    \n",
    "    skylineList = [0]\n",
    "    candidate = []\n",
    "    for row in range(rows):\n",
    "#         print(\"iteration : \", row)\n",
    "        new = array[row]\n",
    "        length = len(skylineList)\n",
    "        \n",
    "        for index in range(length):\n",
    "            temp = skylineList.pop(0)\n",
    "#             print(\"pop out element : \"+str(temp))\n",
    "            pop = array[temp]\n",
    "            \n",
    "            if(not(dominate(new, pop)) and not(dominate(pop, new))):\n",
    "#                 print(str(new)+ \" and \"+ str(pop) + \" don't dominate each other.\")\n",
    "                if(index == (length-1) ):\n",
    "#                     print(\"last index:\" + str(index))\n",
    "#                     print(\"insert \" + str(row) + \" into candidate.\" )    \n",
    "                    if(row not in candidate):\n",
    "                        candidate.append(row)\n",
    "                \n",
    "#                 print(\"insert \" + str(temp) + \" into candidate.\" )    \n",
    "                if(temp not in candidate):\n",
    "                    candidate.append(temp)\n",
    "            \n",
    "            elif(dominate(new, pop)):\n",
    "#                 print(str(new) + \" dominate \" + str(pop))\n",
    "#                 print(\"insert \" + str(row) + \" into candidate.\" )\n",
    "                if(row not in candidate):\n",
    "                    candidate.append(row)\n",
    "            \n",
    "            elif(dominate(pop, new)):\n",
    "#                 print(str(pop) + \" dominate \" + str(new))\n",
    "#                 print(\"insert \" + str(temp) + \" into candidate.\" )\n",
    "                if(temp not in candidate):\n",
    "                    candidate.append(temp)\n",
    "            \n",
    "#             print(\"candidate : \"+str(candidate))\n",
    "        \n",
    "        skylineList = candidate[:]\n",
    "        candidate.clear()\n",
    "            \n",
    "#         print(\"current skylineList:\"+str(skylineList))\n",
    "\n",
    "    return skylineList\n",
    "\n",
    "def printAllItemN(ndarray):\n",
    "    for item in ndarray:\n",
    "        print(item)\n",
    "\n",
    "\n",
    "def assignMissValue(n, mR):\n",
    "    missArray = n.copy()\n",
    "    cols = len(missArray[0])\n",
    "    rows = len(missArray)\n",
    "    miss = 0\n",
    "    origin = 0\n",
    "    \n",
    "    for col in range(cols):\n",
    "        for row in range(rows):\n",
    "            r = random.random()\n",
    "            if r < mR:\n",
    "                #then determine to miss\n",
    "                missArray[row][col] = np.nan\n",
    "#                 print(\"assign miss\")\n",
    "                miss += 1\n",
    "            elif r >= mR:\n",
    "                #remain origin value\n",
    "#                 print(\"origin value\")\n",
    "                origin +=1\n",
    "#         print(\"miss count : \", miss)\n",
    "#         print(\"miss rate = \", (miss/rows))\n",
    "#         print(\"origin count : \", origin)\n",
    "#         print(\"origin rate = \", (origin/rows))\n",
    "        miss = 0\n",
    "        origin = 0\n",
    "    \n",
    "#     printAllItemN(missArray)\n",
    "    return missArray\n",
    "\n",
    "\n",
    "def difference2Lists(sky_list, est_list):\n",
    "    set_difference = set(sky_list) - set(est_list)\n",
    "    list_difference = list(set_difference)\n",
    "    \n",
    "    return list_difference\n",
    "\n",
    "def returnHitList(sky_list, est_list):\n",
    "    set1 = set(sky_list)\n",
    "    set2 = set(est_list)\n",
    "    hitSet = set1.intersection(set2)\n",
    "    \n",
    "    return list(hitSet)\n",
    "\n",
    "def returnMissList(sky_list, est_list):\n",
    "    set1 = set(sky_list)\n",
    "    set2 = set(est_list)\n",
    "    missSet = set1.union(set2) - set1.intersection(set2)\n",
    "    \n",
    "    return list(missSet)\n",
    "\n",
    "def hitRatio(sky_list, est_list):\n",
    "    set1 = set(sky_list)\n",
    "    set2 = set(est_list)\n",
    "    union2Set = set1.union(set2)\n",
    "    hitSet = set(returnHitList(sky_list, est_list))\n",
    "    return len(hitSet)/len(union2Set)\n",
    "\n",
    "def missRatio(sky_list, est_list):\n",
    "    return 1-hitRatio(sky_list, est_list)\n"
   ]
  },
  {
   "cell_type": "code",
   "execution_count": 20,
   "metadata": {},
   "outputs": [],
   "source": [
    "list1 = [1,2,3,5]\n",
    "list2 = [5,1,7,4]\n",
    "\n",
    "# print(distance.euclidean(list1,list2,None)) #length must be equal\n",
    "# print(distance.hamming(list1,list2,None)) #length must be equal\n",
    "\n",
    "'''\n",
    "    new metrics to benchmark the diatance between est_skyline and origin_skyline \n",
    "'''\n",
    "\n",
    "def HammingHit(list1, list2):\n",
    "    hit = 0\n",
    "    for item in list1:\n",
    "        if item in list2:\n",
    "            hit +=1\n",
    "    \n",
    "    return hit\n",
    "\n",
    "def skyline_HammingDistance(list1, list2):\n",
    "    hit = HammingHit(list1, list2)\n",
    "    set1 = set(list1)\n",
    "    set2 = set(list2)\n",
    "    union = set1.union(set2)\n",
    "#     print(union)\n",
    "    distance = hit/len(list(union))\n",
    "    \n",
    "    return distance\n",
    "\n",
    "# print(skyline_HammingDistance(list1,list2))\n",
    "# print(skyline_HammingDistance(list2,list1))\n",
    "# print(skyline_HammingDistance(list1,list1))\n",
    "\n",
    "def nanCountAtCol(array, column):\n",
    "    rows = len(array)\n",
    "#     cols = len(array[0])\n",
    "    nanCount = 0\n",
    "    for row in range(rows):\n",
    "        if np.isnan(array[row][column]):\n",
    "            nanCount += 1\n",
    "#             print(\"array [\",row,\"][\",column,\"] is nan value\")\n",
    "#             print(array[row][column])\n",
    "    \n",
    "    return nanCount\n",
    "\n",
    "def setK(array, col, k):\n",
    "    K_in_col = k\n",
    "    n = len(array)\n",
    "    missCount = nanCountAtCol(array, col)\n",
    "    \n",
    "    if K_in_col >= (n - missCount):\n",
    "        K_in_col = (n - missCount)\n",
    "    elif K_in_col > 0 and K_in_col < (n - missCount) :\n",
    "        K_in_col = k\n",
    "    else:\n",
    "        print(\"Invalid value of K_in_col in setK function!\")\n",
    "    \n",
    "    return K_in_col\n",
    "\n",
    "def resetNanCells(array):\n",
    "    reset_array = array.copy()\n",
    "    rows = len(array)\n",
    "    cols = len(array[0])\n",
    "    \n",
    "    for row in range(rows):\n",
    "        for col in range(cols):\n",
    "            if np.isnan(reset_array[row][col]):\n",
    "                reset_array[row][col] = 0\n",
    "    \n",
    "#     print(reset_array)\n",
    "    return reset_array"
   ]
  },
  {
   "cell_type": "code",
   "execution_count": null,
   "metadata": {},
   "outputs": [
    {
     "name": "stdout",
     "output_type": "stream",
     "text": [
      "original skyline set \n",
      "[220, 389, 70, 128, 275, 160, 299, 67, 74, 413, 163, 361, 192, 172, 233, 222, 312, 236, 270, 326, 360, 318, 363, 385, 377, 379, 381, 390, 392, 395, 396, 403, 404, 411, 412, 0]\n",
      "original skyline length = 36\n",
      "k =  1\n"
     ]
    },
    {
     "data": {
      "image/png": "[encoded data removed]",
      "text/plain": [
       "<Figure size 432x288 with 1 Axes>"
      ]
     },
     "metadata": {
      "needs_background": "light"
     },
     "output_type": "display_data"
    },
    {
     "name": "stdout",
     "output_type": "stream",
     "text": [
      "k =  2\n"
     ]
    },
    {
     "data": {
      "image/png": "[encoded data removed]",
      "text/plain": [
       "<Figure size 432x288 with 1 Axes>"
      ]
     },
     "metadata": {
      "needs_background": "light"
     },
     "output_type": "display_data"
    },
    {
     "name": "stdout",
     "output_type": "stream",
     "text": [
      "k =  3\n"
     ]
    },
    {
     "data": {
      "image/png": "[encoded data removed]",
      "text/plain": [
       "<Figure size 432x288 with 1 Axes>"
      ]
     },
     "metadata": {
      "needs_background": "light"
     },
     "output_type": "display_data"
    },
    {
     "name": "stdout",
     "output_type": "stream",
     "text": [
      "k =  4\n"
     ]
    }
   ],
   "source": [
    "# print(type(df_filled))\n",
    "\n",
    "original_skyline = findskyline(df_filled)\n",
    "print(\"original skyline set \")\n",
    "print(original_skyline)\n",
    "print(\"original skyline length = \" + str(len(original_skyline)))\n",
    "\n",
    "for i in range(1,len(df_filled[0])+1):\n",
    "    imputer = KNNImputer(n_neighbors = i) \n",
    "    print(\"k = \",i)\n",
    "    miss_rate = []\n",
    "    hit_ratio = []\n",
    "    for missRate in [float(j) / 100 for j in range(1, 100, 1)]:\n",
    "#         print(\"missing rate : \",missRate)\n",
    "\n",
    "        after_miss = assignMissValue(df_filled, missRate)\n",
    "    #     print(\"missing data set \")\n",
    "    #     print(after_miss)\n",
    "    #     print(\"after imputation : \")\n",
    "\n",
    "        miss_filled = imputer.fit_transform(after_miss)\n",
    "    #     print(miss_filled)\n",
    "\n",
    "        est_skyline = findskyline(miss_filled)\n",
    "    #     print(\"estimated skyline set \")\n",
    "    #     print(est_skyline)\n",
    "    #     print(\"estimated skyline length = \" + str(len(est_skyline)))\n",
    "\n",
    "#         print(\"Hit Ratio of : \",hitRatio(original_skyline,est_skyline2))\n",
    "        miss_rate.append(missRate)\n",
    "        hit_ratio.append(hitRatio(original_skyline,est_skyline))\n",
    "#         print(skyline_HammingDistance(original_skyline,est_skyline))\n",
    "        \n",
    "    plt.title(\"miss rate versus hit ratio \") # title\n",
    "    plt.xlabel(\"missing rate\") # x label\n",
    "    plt.ylabel(\"hit ratio\") # y label\n",
    "    plt.plot(miss_rate, hit_ratio) #(x-axis, y-axis)\n",
    "    plt.show()"
   ]
  },
  {
   "cell_type": "code",
   "execution_count": 5,
   "metadata": {},
   "outputs": [
    {
     "name": "stdout",
     "output_type": "stream",
     "text": [
      "0.30985915492957744\n",
      "0.2727272727272727\n"
     ]
    }
   ],
   "source": [
    "\n",
    "imputer3 = KNNImputer(n_neighbors = 3)\n",
    "df_filled = imputer3.fit_transform(df_filled)\n",
    "missRate = 0.5\n",
    "\n",
    "after_miss = assignMissValue(df_filled, missRate)\n",
    "imputer = KNNImputer(n_neighbors = 3, weights = 'distance')\n",
    "k1 = imputer.fit_transform(after_miss)\n",
    "imputer2 = KNNImputer(n_neighbors = 3, weights = 'uniform')\n",
    "k2 = imputer2.fit_transform(after_miss)\n",
    "\n",
    "\n",
    "original_skyline = findskyline(df_filled)\n",
    "weighted_skyline = findskyline(k1)\n",
    "uniform_skyline  = findskyline(k2)\n",
    "\n",
    "print(hitRatio(original_skyline, weighted_skyline))\n",
    "\n",
    "print(hitRatio(original_skyline, uniform_skyline))\n",
    "\n"
   ]
  },
  {
   "cell_type": "markdown",
   "metadata": {},
   "source": [
    "### proposed method \n",
    "\n",
    "- step-1: record missing distribution at each column\n",
    "\n",
    "- step-2: reset all nan-values into zeroes\n",
    "\n",
    "- step-3: evaluate the distance of pairwise points\n",
    "\n",
    "- step-4: establish weight_vector via weighting_function according to missing distribution \n",
    "\n",
    "- step-5: \n",
    "\n",
    "- step-6: impute new value into 0 cells\n"
   ]
  },
  {
   "cell_type": "code",
   "execution_count": 8,
   "metadata": {},
   "outputs": [
    {
     "name": "stdout",
     "output_type": "stream",
     "text": [
      "[0.9722222222222222, 0.972972972972973, 0.9459459459459459, 0.9473684210526315, 0.6111111111111112, 0.8205128205128205, 0.868421052631579, 0.6842105263157895, 0.8205128205128205, 0.5689655172413793, 0.775, 0.5714285714285714, 0.6956521739130435, 0.5510204081632653, 0.6808510638297872, 0.6071428571428571, 0.7674418604651163, 0.46875, 0.7857142857142857, 0.6578947368421053, 0.6444444444444445, 0.5714285714285714, 0.32, 0.5471698113207547, 0.6976744186046512, 0.42857142857142855, 0.4576271186440678, 0.5245901639344263, 0.4716981132075472, 0.5769230769230769, 0.5, 0.4032258064516129, 0.4807692307692308, 0.3492063492063492, 0.43902439024390244, 0.46938775510204084, 0.4426229508196721, 0.3793103448275862, 0.3125, 0.421875, 0.4264705882352941, 0.3611111111111111, 0.3442622950819672, 0.34328358208955223, 0.40298507462686567, 0.2692307692307692, 0.35, 0.3492063492063492, 0.38461538461538464, 0.28169014084507044, 0.5106382978723404, 0.22448979591836735, 0.3684210526315789, 0.3230769230769231, 0.3888888888888889, 0.29411764705882354, 0.37735849056603776, 0.31343283582089554, 0.23636363636363636, 0.20833333333333334, 0.21794871794871795, 0.29508196721311475, 0.2361111111111111, 0.19696969696969696, 0.32142857142857145, 0.18309859154929578, 0.2564102564102564, 0.2777777777777778, 0.1794871794871795, 0.20833333333333334, 0.25, 0.21052631578947367, 0.18867924528301888, 0.2361111111111111, 0.24528301886792453, 0.1724137931034483, 0.20481927710843373, 0.19696969696969696, 0.14084507042253522, 0.21875, 0.13793103448275862, 0.25, 0.35714285714285715, 0.16363636363636364, 0.1276595744680851, 0.10714285714285714, 0.07407407407407407, 0.13432835820895522, 0.1, 0.14285714285714285, 0.08064516129032258, 0.15217391304347827, 0.021739130434782608, 0.11627906976744186, 0.07142857142857142, 0.02127659574468085, 0.11904761904761904, 0.0, 0.0, 1.0, 0.9722222222222222, 0.972972972972973, 0.8918918918918919, 0.9444444444444444, 0.8717948717948718, 0.8947368421052632, 0.6666666666666666, 0.8461538461538461, 0.825, 0.825, 0.7631578947368421, 0.6818181818181818, 0.6976744186046512, 0.43548387096774194, 0.7045454545454546, 0.7560975609756098, 0.7, 0.6521739130434783, 0.5357142857142857, 0.42028985507246375, 0.6444444444444445, 0.42857142857142855, 0.6829268292682927, 0.4262295081967213, 0.46875, 0.6530612244897959, 0.4090909090909091, 0.574468085106383, 0.39622641509433965, 0.40625, 0.37681159420289856, 0.43103448275862066, 0.5625, 0.3023255813953488, 0.43333333333333335, 0.46938775510204084, 0.36666666666666664, 0.3235294117647059, 0.45098039215686275, 0.30612244897959184, 0.4222222222222222, 0.4, 0.5111111111111111, 0.36666666666666664, 0.46153846153846156, 0.3114754098360656, 0.41509433962264153, 0.3333333333333333, 0.40425531914893614, 0.29850746268656714, 0.38, 0.2916666666666667, 0.34615384615384615, 0.21794871794871795, 0.33962264150943394, 0.35384615384615387, 0.3684210526315789, 0.2608695652173913, 0.2753623188405797, 0.34615384615384615, 0.2698412698412698, 0.29508196721311475, 0.208955223880597, 0.18181818181818182, 0.2, 0.19230769230769232, 0.2549019607843137, 0.27586206896551724, 0.18421052631578946, 0.2777777777777778, 0.32142857142857145, 0.21311475409836064, 0.203125, 0.18333333333333332, 0.15789473684210525, 0.22413793103448276, 0.24096385542168675, 0.16901408450704225, 0.20634920634920634, 0.25, 0.17142857142857143, 0.136986301369863, 0.1625, 0.10126582278481013, 0.08, 0.13333333333333333, 0.12987012987012986, 0.19480519480519481, 0.12048192771084337, 0.0945945945945946, 0.10126582278481013, 0.07407407407407407, 0.11904761904761904, 0.0851063829787234, 0.023809523809523808, 0.07142857142857142, 0.02564102564102564, 0.08333333333333333, 1.0, 1.0, 0.918918918918919, 0.8292682926829268, 0.8918918918918919, 0.7333333333333333, 0.8780487804878049, 0.8648648648648649, 0.825, 0.7560975609756098, 0.8095238095238095, 0.7446808510638298, 0.5961538461538461, 0.53125, 0.6829268292682927, 0.5283018867924528, 0.5813953488372093, 0.6226415094339622, 0.7073170731707317, 0.6444444444444445, 0.6590909090909091, 0.55, 0.7297297297297297, 0.5106382978723404, 0.5217391304347826, 0.4, 0.3225806451612903, 0.5769230769230769, 0.6, 0.43137254901960786, 0.4716981132075472, 0.5185185185185185, 0.390625, 0.46808510638297873, 0.44680851063829785, 0.5833333333333334, 0.5531914893617021, 0.4444444444444444, 0.4126984126984127, 0.6086956521739131, 0.4791666666666667, 0.3333333333333333, 0.3125, 0.3492063492063492, 0.4745762711864407, 0.38181818181818183, 0.41304347826086957, 0.38596491228070173, 0.2903225806451613, 0.38235294117647056, 0.20224719101123595, 0.3188405797101449, 0.37735849056603776, 0.34545454545454546, 0.2638888888888889, 0.2909090909090909, 0.28169014084507044, 0.25882352941176473, 0.2361111111111111, 0.3114754098360656, 0.28205128205128205, 0.3064516129032258, 0.2765957446808511, 0.24675324675324675, 0.35185185185185186, 0.2, 0.21951219512195122, 0.3076923076923077, 0.15730337078651685, 0.18604651162790697, 0.14814814814814814, 0.17333333333333334, 0.24050632911392406, 0.15, 0.2597402597402597, 0.14492753623188406, 0.21428571428571427, 0.19672131147540983, 0.1625, 0.2777777777777778, 0.1935483870967742, 0.1694915254237288, 0.17333333333333334, 0.13333333333333333, 0.08695652173913043, 0.13953488372093023, 0.16279069767441862, 0.1411764705882353, 0.1111111111111111, 0.17647058823529413, 0.06779661016949153, 0.06896551724137931, 0.09230769230769231, 0.08695652173913043, 0.1111111111111111, 0.09302325581395349, 0.08333333333333333, 0.0, 0.0, 0.972972972972973, 0.7906976744186046, 0.72, 0.9444444444444444, 0.8, 0.6666666666666666, 0.918918918918919, 0.6071428571428571, 0.7948717948717948, 0.7317073170731707, 0.5660377358490566, 0.6363636363636364, 0.7906976744186046, 0.6071428571428571, 0.6938775510204082, 0.6590909090909091, 0.5238095238095238, 0.5370370370370371, 0.5833333333333334, 0.5909090909090909, 0.5098039215686274, 0.6444444444444445, 0.54, 0.5476190476190477, 0.5490196078431373, 0.47058823529411764, 0.41379310344827586, 0.3333333333333333, 0.46296296296296297, 0.574468085106383, 0.4107142857142857, 0.39622641509433965, 0.5217391304347826, 0.4307692307692308, 0.5, 0.4098360655737705, 0.48936170212765956, 0.475, 0.4807692307692308, 0.3793103448275862, 0.47058823529411764, 0.45454545454545453, 0.5208333333333334, 0.44680851063829785, 0.3561643835616438, 0.3188405797101449, 0.42857142857142855, 0.30357142857142855, 0.3088235294117647, 0.48936170212765956, 0.32075471698113206, 0.4, 0.23636363636363636, 0.2833333333333333, 0.3076923076923077, 0.288135593220339, 0.25, 0.24242424242424243, 0.3333333333333333, 0.36065573770491804, 0.234375, 0.18518518518518517, 0.2571428571428571, 0.20588235294117646, 0.2125, 0.3018867924528302, 0.2125, 0.273972602739726, 0.18461538461538463, 0.18823529411764706, 0.2073170731707317, 0.25862068965517243, 0.21428571428571427, 0.2692307692307692, 0.19753086419753085, 0.18478260869565216, 0.16666666666666666, 0.14516129032258066, 0.18292682926829268, 0.25396825396825395, 0.0851063829787234, 0.22535211267605634, 0.18181818181818182, 0.14814814814814814, 0.2, 0.208955223880597, 0.15584415584415584, 0.1076923076923077, 0.16666666666666666, 0.2549019607843137, 0.14102564102564102, 0.06153846153846154, 0.05263157894736842, 0.09259259259259259, 0.05, 0.08333333333333333, 0.021739130434782608, 0.0, 0.05405405405405406]\n"
     ]
    }
   ],
   "source": []
  },
  {
   "cell_type": "code",
   "execution_count": null,
   "metadata": {},
   "outputs": [],
   "source": []
  }
 ],
 "metadata": {
  "kernelspec": {
   "display_name": "Python 3",
   "language": "python",
   "name": "python3"
  },
  "language_info": {
   "codemirror_mode": {
    "name": "ipython",
    "version": 3
   },
   "file_extension": ".py",
   "mimetype": "text/x-python",
   "name": "python",
   "nbconvert_exporter": "python",
   "pygments_lexer": "ipython3",
   "version": "3.7.6"
  }
 },
 "nbformat": 4,
 "nbformat_minor": 4
}
