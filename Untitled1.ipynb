{
 "cells": [
  {
   "cell_type": "code",
   "execution_count": 2,
   "metadata": {},
   "outputs": [],
   "source": [
    "from sklearn.impute import KNNImputer\n",
    "import numpy as np\n",
    "import pandas as pd\n",
    "import csv\n",
    "import random\n",
    "import math\n",
    "np.set_printoptions(precision=2)\n",
    "\n",
    "### function definition    \n",
    "def assignMissValue(n, mR):\n",
    "    missArray = n.copy()\n",
    "    cols = len(missArray[0])\n",
    "    rows = len(missArray)\n",
    "    miss = 0\n",
    "    origin = 0\n",
    "    \n",
    "    for col in range(cols):\n",
    "        for row in range(rows):\n",
    "            r = random.random()\n",
    "            if r < mR:\n",
    "                #then determine to miss\n",
    "                missArray[row][col] = np.nan\n",
    "#                 print(\"assign miss\")\n",
    "                miss += 1\n",
    "            elif r >= mR:\n",
    "                #remain origin value\n",
    "#                 print(\"origin value\")\n",
    "                origin +=1\n",
    "#         print(\"miss count : \", miss)\n",
    "#         print(\"miss rate = \", (miss/rows))\n",
    "#         print(\"origin count : \", origin)\n",
    "#         print(\"origin rate = \", (origin/rows))\n",
    "        miss = 0\n",
    "        origin = 0\n",
    "    \n",
    "#     printAllItemN(missArray)\n",
    "    return missArray\n",
    "\n",
    "\n",
    "\n",
    "\n"
   ]
  },
  {
   "cell_type": "code",
   "execution_count": 20,
   "metadata": {},
   "outputs": [
    {
     "name": "stdout",
     "output_type": "stream",
     "text": [
      "k = 3\n",
      "[[ 1.   1.   7.   1. ]\n",
      " [ 2.   5.5  7.   8. ]\n",
      " [ 3.   5.   4.   9. ]\n",
      " [ 4.   6.  10.   9. ]]\n"
     ]
    }
   ],
   "source": [
    "n = [\n",
    "    [1 , np.nan,     16,     13,     88, np.nan],\n",
    "    [2 ,      8,      0, np.nan,      6, np.nan],\n",
    "    [3 , np.nan,     14,     57,      7, np.nan],\n",
    "    [4 ,     15,    100, np.nan, np.nan,      2],\n",
    "    [np.nan ,      1,      5,     13,     15,     44],\n",
    "    [6 ,      2,     17,     61,     77,     35],\n",
    "    [7 , np.nan,     99,     12,     44,     18],\n",
    "    [8 , np.nan,      4,     42,     98,     90],\n",
    "    [9 ,     11,     10,     20,     19,      1],\n",
    "    [10,      3, np.nan,     21,      2,     33],\n",
    "    ] \n",
    "\n",
    "n1 = [\n",
    "    [1,      1, np.nan,      1],\n",
    "    [2, np.nan, np.nan,      8],\n",
    "    [3, 5, 4,      9],\n",
    "    [4,      6, 10, 9]\n",
    "]\n",
    "\n",
    "imputer = KNNImputer(n_neighbors = 2)\n",
    "k1 = imputer.fit_transform(n1)\n",
    "\n",
    "print(\"k = 3\")\n",
    "print(k1)\n"
   ]
  },
  {
   "cell_type": "code",
   "execution_count": null,
   "metadata": {},
   "outputs": [],
   "source": []
  },
  {
   "cell_type": "code",
   "execution_count": null,
   "metadata": {},
   "outputs": [],
   "source": [
    "\n",
    "\n"
   ]
  }
 ],
 "metadata": {
  "kernelspec": {
   "display_name": "Python 3",
   "language": "python",
   "name": "python3"
  },
  "language_info": {
   "codemirror_mode": {
    "name": "ipython",
    "version": 3
   },
   "file_extension": ".py",
   "mimetype": "text/x-python",
   "name": "python",
   "nbconvert_exporter": "python",
   "pygments_lexer": "ipython3",
   "version": "3.7.6"
  }
 },
 "nbformat": 4,
 "nbformat_minor": 4
}
